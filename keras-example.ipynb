{
 "cells": [
  {
   "cell_type": "code",
   "execution_count": 1,
   "metadata": {
    "collapsed": false
   },
   "outputs": [
    {
     "name": "stderr",
     "output_type": "stream",
     "text": [
      "Using Theano backend.\n"
     ]
    }
   ],
   "source": [
    "from __future__ import division\n",
    "\n",
    "from keras.layers.core import Dense, Activation, Dropout\n",
    "from keras.models import Sequential\n",
    "from keras.optimizers import SGD\n",
    "from pprint import pprint\n",
    "from sklearn.cross_validation import StratifiedShuffleSplit\n",
    "from sklearn.preprocessing import StandardScaler\n",
    "from sklearn.feature_extraction import DictVectorizer\n",
    "from sklearn.metrics import classification_report\n",
    "from sklearn.preprocessing import Imputer\n",
    "import json\n",
    "import numpy as np\n",
    "import sys\n",
    "import pickle"
   ]
  },
  {
   "cell_type": "markdown",
   "metadata": {},
   "source": [
    "# Load"
   ]
  },
  {
   "cell_type": "code",
   "execution_count": 2,
   "metadata": {
    "collapsed": false
   },
   "outputs": [],
   "source": [
    "basePath = \"/mfs/replicated/tivvit/externalImages/\""
   ]
  },
  {
   "cell_type": "code",
   "execution_count": 3,
   "metadata": {
    "collapsed": true
   },
   "outputs": [],
   "source": [
    "imgsProperties = pickle.load(open(basePath + \"img_prop.pkl\", \"rb\"))\n",
    "imgsResults = pickle.load(open(basePath + \"img_res.pkl\", \"rb\"))"
   ]
  },
  {
   "cell_type": "code",
   "execution_count": 4,
   "metadata": {
    "collapsed": true
   },
   "outputs": [],
   "source": [
    "class NeuralLearner:\n",
    "    def __init__(self):\n",
    "        self.model = Sequential()\n",
    "\n",
    "    def vectorize(self, listOfDicts):\n",
    "        self.vec = DictVectorizer()\n",
    "        ldArray = self.vec.fit_transform(listOfDicts).toarray()\n",
    "        ldArray = Imputer().fit_transform(ldArray)\n",
    "        ldNames = np.asarray(self.vec.get_feature_names())\n",
    "        return ldNames, ldArray\n",
    "\n",
    "    def train(self, XArray, YArray):\n",
    "        self.model.add(Dense(input_dim=len(XArray[0]),\n",
    "                             output_dim=len(XArray[0]) / 2,\n",
    "                             init=\"uniform\"))\n",
    "        self.model.add(Activation(\"tanh\"))\n",
    "\n",
    "        self.model.add(Dense(input_dim=len(XArray[0]) / 2,\n",
    "                             output_dim=len(XArray[0]) / 2,\n",
    "                             init=\"uniform\"))\n",
    "        self.model.add(Activation(\"tanh\"))\n",
    "#       self.model.add(Dropout(0.3))\n",
    "\n",
    "        self.model.add(Dense(input_dim=len(XArray[0]) / 2,\n",
    "                             output_dim=42,\n",
    "                             init=\"uniform\"))\n",
    "        self.model.add(Activation(\"tanh\"))\n",
    "\n",
    "        self.model.add(Dense(input_dim=42,\n",
    "                             output_dim=42,\n",
    "                             init=\"uniform\"))\n",
    "        self.model.add(Activation(\"tanh\"))\n",
    "        self.model.add(Dense(input_dim=42,\n",
    "                             output_dim=len(YArray[0]),\n",
    "                             init=\"uniform\"))\n",
    "        self.model.add(Activation(\"softmax\"))\n",
    "        \n",
    "        self.model.compile(loss='categorical_crossentropy',\n",
    "                           optimizer=SGD(lr=0.05,\n",
    "                                         momentum=0.9,\n",
    "                                         decay=0.0001,\n",
    "                                         nesterov=True),\n",
    "                           metrics=['accuracy'])\n",
    "\n",
    "        self.model.fit(XArray, YArray, nb_epoch=4, batch_size=200, verbose=0)\n",
    "\n",
    "    def evaluate(self, XTest, YTest):\n",
    "        objective_score = self.model.evaluate(XTest, YTest, batch_size=32)\n",
    "        classes = self.model.predict_classes(XTest, batch_size=32)     \n",
    "        #proba = self.model.predict_proba(XTest, batch_size=32)\n",
    "        \n",
    "        print(\"Objective_score:\", objective_score)\n",
    "        YTest = self.prepairYArray(YTest)\n",
    "        print(classification_report(YTest, classes))\n",
    "\n",
    "    def prepairYArray(self, array):\n",
    "        return np.array([np.where(r == 1)[0][0] for r in array])\n",
    "\n",
    "    def split(self, XArray, YArray):\n",
    "        stratifiedSplit = StratifiedShuffleSplit(YArray,\n",
    "                                                 test_size=0.2,\n",
    "                                                 random_state=0)\n",
    "        for train_index, test_index in stratifiedSplit:\n",
    "            X_train, X_test = XArray[train_index], XArray[test_index]\n",
    "            Y_train, Y_test = YArray[train_index], YArray[test_index]\n",
    "        \n",
    "        return X_train, Y_train, X_test, Y_test\n",
    "\n",
    "    def storeModel(self, prefix):\n",
    "        json_string = self.model.to_json()\n",
    "        open(prefix + '.json', 'w').write(json_string)\n",
    "        self.model.save_weights(prefix + '.h5')"
   ]
  },
  {
   "cell_type": "markdown",
   "metadata": {},
   "source": [
    "# Vectorize"
   ]
  },
  {
   "cell_type": "code",
   "execution_count": 5,
   "metadata": {
    "collapsed": true
   },
   "outputs": [],
   "source": [
    "learner = NeuralLearner()\n",
    "\n",
    "XNames, XArray = learner.vectorize(imgsProperties)\n",
    "#pickle.dump(learner.vec, open(\"xvec.pkl\", \"wb\"))\n",
    "YNames, YArray = learner.vectorize(imgsResults)\n",
    "#pickle.dump(YNames, open(\"ynames.pkl\", \"wb\"))"
   ]
  },
  {
   "cell_type": "markdown",
   "metadata": {},
   "source": [
    "# Scale"
   ]
  },
  {
   "cell_type": "code",
   "execution_count": 6,
   "metadata": {
    "collapsed": true
   },
   "outputs": [],
   "source": [
    "sc = StandardScaler()\n",
    "sc.fit(XArray)\n",
    "XArray_std = sc.transform(XArray)"
   ]
  },
  {
   "cell_type": "markdown",
   "metadata": {},
   "source": [
    "# Split"
   ]
  },
  {
   "cell_type": "code",
   "execution_count": 7,
   "metadata": {
    "collapsed": false
   },
   "outputs": [
    {
     "name": "stdout",
     "output_type": "stream",
     "text": [
      "((30327, 3), (30327, 144), (30327, 144))\n"
     ]
    }
   ],
   "source": [
    "print(YArray.shape, XArray.shape, XArray_std.shape)\n",
    "XA_train, YA_train, XA_test, YA_test = learner.split(XArray_std, YArray)"
   ]
  },
  {
   "cell_type": "markdown",
   "metadata": {},
   "source": [
    "# Train"
   ]
  },
  {
   "cell_type": "code",
   "execution_count": 8,
   "metadata": {
    "collapsed": false
   },
   "outputs": [
    {
     "name": "stderr",
     "output_type": "stream",
     "text": [
      "/usr/local/lib/python2.7/dist-packages/keras/initializations.py:30: VisibleDeprecationWarning: using a non-integer number instead of an integer will result in an error in the future\n",
      "  return K.variable(np.random.uniform(low=-scale, high=scale, size=shape),\n",
      "/usr/local/lib/python2.7/dist-packages/keras/backend/theano_backend.py:73: VisibleDeprecationWarning: using a non-integer number instead of an integer will result in an error in the future\n",
      "  return variable(np.zeros(shape), dtype, name)\n"
     ]
    }
   ],
   "source": [
    "learner.train(XA_train, YA_train)"
   ]
  },
  {
   "cell_type": "markdown",
   "metadata": {},
   "source": [
    "# Test"
   ]
  },
  {
   "cell_type": "code",
   "execution_count": 9,
   "metadata": {
    "collapsed": false
   },
   "outputs": [
    {
     "name": "stdout",
     "output_type": "stream",
     "text": [
      "18198/18198 [==============================] - 2s     \n",
      "18198/18198 [==============================] - 1s     \n",
      "('Objective_score:', [0.62960746255153111, 0.72590394551471793])\n",
      "             precision    recall  f1-score   support\n",
      "\n",
      "          0       0.79      0.65      0.72      5752\n",
      "          1       0.64      0.72      0.68      6647\n",
      "          2       0.78      0.80      0.79      5799\n",
      "\n",
      "avg / total       0.73      0.73      0.73     18198\n",
      "\n"
     ]
    }
   ],
   "source": [
    "learner.evaluate(XA_test, YA_test)"
   ]
  },
  {
   "cell_type": "markdown",
   "metadata": {},
   "source": [
    "# Store"
   ]
  },
  {
   "cell_type": "code",
   "execution_count": 10,
   "metadata": {
    "collapsed": false
   },
   "outputs": [],
   "source": [
    "#learner.storeModel(storeModelprefix)"
   ]
  }
 ],
 "metadata": {
  "kernelspec": {
   "display_name": "Python 2",
   "language": "python",
   "name": "python2"
  },
  "language_info": {
   "codemirror_mode": {
    "name": "ipython",
    "version": 2
   },
   "file_extension": ".py",
   "mimetype": "text/x-python",
   "name": "python",
   "nbconvert_exporter": "python",
   "pygments_lexer": "ipython2",
   "version": "2.7.9"
  }
 },
 "nbformat": 4,
 "nbformat_minor": 0
}

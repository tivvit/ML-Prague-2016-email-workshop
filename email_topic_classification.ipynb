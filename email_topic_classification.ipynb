{
 "cells": [
  {
   "cell_type": "code",
   "execution_count": 1,
   "metadata": {
    "collapsed": true
   },
   "outputs": [],
   "source": [
    "import pickle\n",
    "import sklearn\n",
    "from os.path import join\n",
    "from sklearn.svm import LinearSVC\n",
    "from sklearn.metrics import classification_report\n",
    "from sklearn.cross_validation import StratifiedShuffleSplit\n",
    "from sklearn.feature_extraction.text import TfidfVectorizer\n",
    "import time\n",
    "import os, errno"
   ]
  },
  {
   "cell_type": "code",
   "execution_count": 2,
   "metadata": {
    "collapsed": false
   },
   "outputs": [],
   "source": [
    "basepath = \"/mfs/replicated/datasets/theme_en_echo/\"\n",
    "#basepath = \"/mfs/replicated/datasets/theme_cs_golf/\"\n",
    "\n",
    "SUBJECT_SALT = \"_aGef194Kl\"\n",
    "\n",
    "# DEFINE OUTPUT FILES\n",
    "corpusFilename = basepath + \"corpus.pkl\"\n",
    "corpusPreprocessedFilename = basepath + \"corpusPreprocessed.pkl\"\n",
    "labelsIdsFilename = basepath + \"labelsIds.pkl\"\n",
    "splitIndicesFilename = basepath + \"splitIndices.pkl\"\n",
    "vectorizerFilenameTemplate = basepath + \"theme-categorization_%s_vectorizer_lemma_%s.pkl\"\n",
    "modelFilenameTemplate = basepath + \"theme-categorization_%s_model_lemma_%s.pkl\"\n",
    "reportFilenameTemplate = basepath + \"%s-report.txt\"\n",
    "\n",
    "name = \"echo\"\n",
    "language = \"en\"\n",
    "\n",
    "#name = \"golf\"\n",
    "#language = \"cs\"\n",
    "\n",
    "processedFolderPath = join(basepath, \"..\", \"processed\")\n",
    "vectorizerFilename = vectorizerFilenameTemplate % (name, language)\n",
    "modelFilename = modelFilenameTemplate % (name, language)\n",
    "reportFilename = reportFilenameTemplate % (name)"
   ]
  },
  {
   "cell_type": "markdown",
   "metadata": {},
   "source": [
    "# Loading converted data"
   ]
  },
  {
   "cell_type": "code",
   "execution_count": 3,
   "metadata": {
    "collapsed": true
   },
   "outputs": [],
   "source": [
    "[labels, ids]  = pickle.load( open(join(processedFolderPath,labelsIdsFilename), \"rb\" ))\n",
    "corpus = pickle.load( open(join(processedFolderPath,corpusFilename), \"rb\" ))"
   ]
  },
  {
   "cell_type": "code",
   "execution_count": 4,
   "metadata": {
    "collapsed": false
   },
   "outputs": [
    {
     "data": {
      "text/plain": [
       "[(\"you're bank might owe you money the claims guys marie, start reclaiming your mis-sold ppi money today! \\xc2\\xa0 could you be owed money for mis-sold payment protection insurance (ppi) on a credit card or loan? \\xc2\\xa0 natwest \\xc2\\xa0 lloyds \\xc2\\xa0 barclays \\xc2\\xa0 any other lender \\xc2\\xa0 \\xc2\\xa0 start your 30 second application* \\xc2\\xbb if you've had a loan or credit card with lloyds, barclays, natwest or any other lender, you could be one of the millions who was mis-sold a ppi policy. \\xc2\\xa0 \\xc2\\xa0 start your 30 second application* \\xc2\\xbb \\xc2\\xa0 \\xc2\\xa0 \\xc2\\xa0 choose the claims guys \\xe2\\x80\\xa2 \\xc2\\xa3300m claimed back for customers** \\xe2\\x80\\xa2 average tcg customer claim, \\xc2\\xa33,200** \\xe2\\x80\\xa2 we do not charge upfront fees \\xe2\\x80\\xa2 no win, no fee*** \\xc2\\xa0 \\xc2\\xa0 *online application to request a call back from the claims guys ** figure applies across all lenders and across all the claims guys customers ***a fee will be payable for all claim(s) cancelled after the 14 day cooling off period or after a reasonable offer has been made by the lender. the claims guys ltd, lynfield house, church street, altrincham, cheshire, wa14 4dz is registered in england (company no 06821134) and is regulated by the claims management regulator in repsect of regulated claims management activities (crm19382); its registration is recorded on the website www.gov.uk/moj/cmr/ we hope you enjoyed receiving this email. should you no longer wish to receive emails from this company, visit this link to unsubscribe \\xc2\\xa0 the claims guys marie, start reclaiming your mis-sold ppi money today! could you be owed money for mis-sold payment protection insurance (ppi) on a credit card or loan? start your 30 second application* \\xc2\\xbb \\xc2\\xa0 \\xc2\\xa0 natwest \\xc2\\xa0 lloyds \\xc2\\xa0 barclays \\xc2\\xa0 any other lender \\xc2\\xa0 \\xc2\\xa0 if you've had a loan or credit card with lloyds, barclays, natwest or any other lender, you could be one of the millions who was mis-sold a ppi policy. \\xc2\\xa0 \\xc2\\xa0 start your 30 second application* \\xc2\\xbb choose the claims guys \\xc2\\xa0 \\xe2\\x80\\xa2 \\xc2\\xa3300m claimed back for customers** \\xe2\\x80\\xa2 average tcg customer claim, \\xc2\\xa33,200** \\xe2\\x80\\xa2 we do not charge upfront fees \\xe2\\x80\\xa2 no win, no fee*** \\xc2\\xa0 *online application to request a call back from the claims guys ** figure applies across all lenders and across all the claims guys customers ***a fee will be payable for all claim(s) cancelled after the 14 day cooling off period or after a reasonable offer has been made by the lender. the claims guys ltd, lynfield house, church street, altrincham, cheshire, wa14 4dz is registered in england (company no 06821134) and is regulated by the claims management regulator in repsect of regulated claims management activities (crm19382); its registration is recorded on the website www.gov.uk/moj/cmr/ we hope you enjoyed receiving this email. should you no longer wish to receive emails from this company, visit this link to unsubscribe we hope you enjoyed receiving this email. should you no longer wish to receive emails from this company, visit this link to unsubscribe you are being sent this advertisement on behalf of claims guys because you opted in to receive promotions on one of our websites or a website of one of our partners. we are dedicated to providing you the best promotions from our select partners. if you no longer wish to receive them, please click here and remove your subscription preference. shawnee development, 2337 frankfort ave, # 330 louisville, ky 40206\",\n",
       "  'millions of people have been mis-sold ppi, have you?'),\n",
       " ('click to view this email in a browser cashlady apply here & now - you could have up to 500 in 1 hour* today! emergencies? unexpected payments? we are here to help! find out more >> 1216% apr representative warning: late repayment can cause you serious money problems. for help, go to moneyadviceservice.org.uk you can apply for up to 500 as long as you: \\xc2\\xa3200 taken for 35 days would require one total repayment of \\xc2\\xa3256, the interest would be \\xc2\\xa356 (interest rate p.a.: 292% fixed) for a loan with a 1216% representative apr. emergencies? unexpected payments? we are here to help! we\\'re a licensed credit broker - one of the leading in the uk you can apply as long as you\\'re at least 18 years old, employed and a uk resident. if you no longer wish to receive these emails, please reply to this message with \"unsubscribe\" in the subject line or simply click on the following link: unsubscribe money gap group limited 28-32 wellington road london, england nw8 9sp uk read the verticalresponse marketing policy.',\n",
       "  'apply up to 500, when in need with cash lady')]"
      ]
     },
     "execution_count": 4,
     "metadata": {},
     "output_type": "execute_result"
    }
   ],
   "source": [
    "corpus[:2]"
   ]
  },
  {
   "cell_type": "code",
   "execution_count": 5,
   "metadata": {
    "collapsed": false
   },
   "outputs": [
    {
     "data": {
      "text/plain": [
       "('loan_nonbank', 'loan_nonbank')"
      ]
     },
     "execution_count": 5,
     "metadata": {},
     "output_type": "execute_result"
    }
   ],
   "source": [
    "labels[:2]"
   ]
  },
  {
   "cell_type": "code",
   "execution_count": 6,
   "metadata": {
    "collapsed": false
   },
   "outputs": [
    {
     "data": {
      "text/plain": [
       "('loan_nonbank/loan_nonbank_charlie/0002923b62be19dddab7c60285bec9b6',\n",
       " 'loan_nonbank/loan_nonbank_charlie/0012c8a80ea0f8f557c04e2d7ab91089')"
      ]
     },
     "execution_count": 6,
     "metadata": {},
     "output_type": "execute_result"
    }
   ],
   "source": [
    "ids[:2]"
   ]
  },
  {
   "cell_type": "markdown",
   "metadata": {},
   "source": [
    "# Loading preprocessed corpus"
   ]
  },
  {
   "cell_type": "code",
   "execution_count": 7,
   "metadata": {
    "collapsed": true
   },
   "outputs": [],
   "source": [
    "processedCorpus = pickle.load( open(join(processedFolderPath,corpusPreprocessedFilename), \"rb\" ))"
   ]
  },
  {
   "cell_type": "code",
   "execution_count": 8,
   "metadata": {
    "collapsed": false
   },
   "outputs": [
    {
     "data": {
      "text/plain": [
       "6106"
      ]
     },
     "execution_count": 8,
     "metadata": {},
     "output_type": "execute_result"
    }
   ],
   "source": [
    "len(processedCorpus)"
   ]
  },
  {
   "cell_type": "code",
   "execution_count": 9,
   "metadata": {
    "collapsed": false
   },
   "outputs": [
    {
     "data": {
      "text/plain": [
       "[u'bank owe money claims guys marie start reclaiming mis sold ppi money today owed money mis sold payment protection insurance ppi credit card loan natwest lloyds barclays lender start second application loan credit card lloyds barclays natwest lender millions mis sold ppi policy start second application choose claims guys claimed customers average tcg customer claim charge upfront fees win fee online application request claims guys figure applies lenders claims guys customers fee payable claim cancelled day cooling period reasonable offer lender claims guys lynfield house church street altrincham cheshire registered england company regulated claims management regulator repsect regulated claims management activities crm registration recorded website www gov moj cmr hope enjoyed receiving email longer wish receive emails company visit link unsubscribe claims guys marie start reclaiming mis sold ppi money today owed money mis sold payment protection insurance ppi credit card loan start second application natwest lloyds barclays lender loan credit card lloyds barclays natwest lender millions mis sold ppi policy start second application choose claims guys claimed customers average tcg customer claim charge upfront fees win fee online application request claims guys figure applies lenders claims guys customers fee payable claim cancelled day cooling period reasonable offer lender claims guys lynfield house church street altrincham cheshire registered england company regulated claims management regulator repsect regulated claims management activities crm registration recorded website www gov moj cmr hope enjoyed receiving email longer wish receive emails company visit link unsubscribe hope enjoyed receiving email longer wish receive emails company visit link unsubscribe sent advertisement behalf claims guys opted receive promotions websites website partners dedicated providing best promotions select partners longer wish receive click remove subscription preference shawnee development frankfort ave louisville millions_aGef194Kl people_aGef194Kl mis_aGef194Kl sold_aGef194Kl ppi_aGef194Kl',\n",
       " u'click view email browser cashlady apply hour today emergencies unexpected payments help apr representative warning late repayment cause money problems help moneyadviceservice org apply long taken days require total repayment rate fixed loan representative apr emergencies unexpected payments help licensed credit broker leading apply long years old employed resident longer wish receive emails reply message unsubscribe subject line simply click following link unsubscribe money gap group limited wellington road london england read verticalresponse marketing policy apply_aGef194Kl need_aGef194Kl cash_aGef194Kl lady_aGef194Kl']"
      ]
     },
     "execution_count": 9,
     "metadata": {},
     "output_type": "execute_result"
    }
   ],
   "source": [
    "processedCorpus[:2]"
   ]
  },
  {
   "cell_type": "markdown",
   "metadata": {},
   "source": [
    "# DATA SPLIT"
   ]
  },
  {
   "cell_type": "code",
   "execution_count": 10,
   "metadata": {
    "collapsed": false
   },
   "outputs": [],
   "source": [
    "stratifiedSplit = StratifiedShuffleSplit(labels, 1, test_size=0.2, random_state=0)\n",
    "[train_indices, test_indices] = stratifiedSplit.__iter__().next()"
   ]
  },
  {
   "cell_type": "code",
   "execution_count": 11,
   "metadata": {
    "collapsed": true
   },
   "outputs": [],
   "source": [
    "##### APPLY INDICES\n",
    "processedCorpus_train = [processedCorpus[i] for i in train_indices]\n",
    "labels_train = [labels[i] for i in train_indices]\n",
    "ids_train = [ids[i] for i in train_indices]\n",
    "\n",
    "processedCorpus_test = [processedCorpus[i] for i in test_indices]\n",
    "labels_test = [labels[i] for i in test_indices]\n",
    "ids_test = [ids[i] for i in test_indices]"
   ]
  },
  {
   "cell_type": "code",
   "execution_count": 12,
   "metadata": {
    "collapsed": false
   },
   "outputs": [
    {
     "data": {
      "text/plain": [
       "(4884, 1222)"
      ]
     },
     "execution_count": 12,
     "metadata": {},
     "output_type": "execute_result"
    }
   ],
   "source": [
    "len(train_indices), len(test_indices)"
   ]
  },
  {
   "cell_type": "code",
   "execution_count": 13,
   "metadata": {
    "collapsed": false
   },
   "outputs": [
    {
     "data": {
      "text/plain": [
       "array([1177, 3414])"
      ]
     },
     "execution_count": 13,
     "metadata": {},
     "output_type": "execute_result"
    }
   ],
   "source": [
    "train_indices[:2]"
   ]
  },
  {
   "cell_type": "code",
   "execution_count": 14,
   "metadata": {
    "collapsed": false
   },
   "outputs": [
    {
     "data": {
      "text/plain": [
       "[u'great ideas come great rewards pentair thermal open innovation awards view email web page click dear vladim\\xedr pentair thermal management history built innovations based great customers like pentair open innovation awards decided chance turn experience imagination special great ideas wholesaler installer engineer employee want hear great ideas idea idea make products easier use matter big small simple complex like hear great rewards course great ideas come great rewards evaluate ideas select final winner wins vip tickets final formula race london june able present idea receive official pentair open innovation award cheque start idea great ideas wait register today seconds submit idea time april stay imaginative linda kiss technology innovation director trademarks property respective owners rights reserved pentair email sent pentair wayzata blvd minneapolis usa update profile unsubscribe vladim\\xedr_aGef194Kl ready_aGef194Kl ideas_aGef194Kl',\n",
       " u'central bank nigeria office director int remit wire transfer dept tinubu square lagos nigeria ref cbn ohg oxd ref telex cenbank payment file cbn fgn date attn beneficiary following directive presidency morning directing central bank nigeria cbn pay immediate effect approved genuine federal government contractors paid years past happy inform payment given attention immediate release required confirm immediately following banking details funds remitted copy address direct phone number expect receiving details immediately pave way final processing release funds congratulations advance hope hearing positively faithfully lambert eze executive director int remittance wire transfer dept cbn email drlambertcbn gmail com official_aGef194Kl memo_aGef194Kl']"
      ]
     },
     "execution_count": 14,
     "metadata": {},
     "output_type": "execute_result"
    }
   ],
   "source": [
    "processedCorpus_train[:2]"
   ]
  },
  {
   "cell_type": "markdown",
   "metadata": {},
   "source": [
    "# VECTORIZE"
   ]
  },
  {
   "cell_type": "code",
   "execution_count": 15,
   "metadata": {
    "collapsed": false
   },
   "outputs": [],
   "source": [
    "vectorizer = TfidfVectorizer(norm='l2', use_idf=True, smooth_idf=True, max_features=50000)\n",
    "X_train = vectorizer.fit_transform(processedCorpus_train)\n",
    "X_test = vectorizer.transform(processedCorpus_test)"
   ]
  },
  {
   "cell_type": "code",
   "execution_count": 16,
   "metadata": {
    "collapsed": false
   },
   "outputs": [
    {
     "data": {
      "text/plain": [
       "(4884, 29591)"
      ]
     },
     "execution_count": 16,
     "metadata": {},
     "output_type": "execute_result"
    }
   ],
   "source": [
    "X_train.shape"
   ]
  },
  {
   "cell_type": "code",
   "execution_count": 17,
   "metadata": {
    "collapsed": false
   },
   "outputs": [
    {
     "data": {
      "text/plain": [
       "(1, 29591)"
      ]
     },
     "execution_count": 17,
     "metadata": {},
     "output_type": "execute_result"
    }
   ],
   "source": [
    "X_train[0].shape"
   ]
  },
  {
   "cell_type": "code",
   "execution_count": 18,
   "metadata": {
    "collapsed": false
   },
   "outputs": [
    {
     "data": {
      "text/plain": [
       "94"
      ]
     },
     "execution_count": 18,
     "metadata": {},
     "output_type": "execute_result"
    }
   ],
   "source": [
    "X_train[0].size"
   ]
  },
  {
   "cell_type": "code",
   "execution_count": 19,
   "metadata": {
    "collapsed": false
   },
   "outputs": [
    {
     "name": "stdout",
     "output_type": "stream",
     "text": [
      "  (0, 12649)\t0.0790155074896\n",
      "  (0, 21574)\t0.0496985712631\n",
      "  (0, 28219)\t0.0857707953929\n",
      "  (0, 27588)\t0.0276759082009\n",
      "  (0, 20881)\t0.0413383699962\n",
      "  (0, 27628)\t0.0340373720028\n",
      "  (0, 27703)\t0.0336356692108\n",
      "  (0, 17005)\t0.0790155074896\n",
      "  (0, 3106)\t0.0590590608902\n",
      "  (0, 28554)\t0.0818192052879\n",
      "  (0, 23652)\t0.0251073671344\n",
      "  (0, 22299)\t0.035324969954\n",
      "  (0, 22627)\t0.0344815622129\n",
      "  (0, 19231)\t0.0498196389114\n",
      "  (0, 22354)\t0.0524622451022\n",
      "  (0, 20985)\t0.0485640568863\n",
      "  (0, 26737)\t0.0507120363302\n",
      "  (0, 7392)\t0.0275016487882\n",
      "  (0, 26032)\t0.0499422294631\n",
      "  (0, 14585)\t0.0790155074896\n",
      "  (0, 15444)\t0.0611554977528\n",
      "  (0, 12767)\t0.0857707953929\n",
      "  (0, 25004)\t0.0453155061718\n",
      "  (0, 1505)\t0.0524622451022\n",
      "  (0, 26458)\t0.0237075870697\n",
      "  :\t:\n",
      "  (1, 6523)\t0.0705968488124\n",
      "  (1, 9803)\t0.121000823502\n",
      "  (1, 9838)\t0.0699568487191\n",
      "  (1, 19668)\t0.0819419462479\n",
      "  (1, 4304)\t0.164344868929\n",
      "  (1, 26080)\t0.10169418088\n",
      "  (1, 19243)\t0.152092996782\n",
      "  (1, 18637)\t0.152092996782\n",
      "  (1, 4237)\t0.337080962814\n",
      "  (1, 21798)\t0.163969659127\n",
      "  (1, 14918)\t0.0723388989259\n",
      "  (1, 24838)\t0.104804376014\n",
      "  (1, 26483)\t0.13764498164\n",
      "  (1, 6994)\t0.188601872427\n",
      "  (1, 26807)\t0.0916384743464\n",
      "  (1, 28953)\t0.158846262007\n",
      "  (1, 22078)\t0.102536480522\n",
      "  (1, 13363)\t0.223731605501\n",
      "  (1, 18582)\t0.0477127667958\n",
      "  (1, 18077)\t0.155475404473\n",
      "  (1, 2328)\t0.0738769544716\n",
      "  (1, 4317)\t0.138671830643\n",
      "  (1, 7392)\t0.117639468167\n",
      "  (1, 9873)\t0.0801444514149\n",
      "  (1, 8484)\t0.0365904572742\n"
     ]
    }
   ],
   "source": [
    "print X_train[:2]"
   ]
  },
  {
   "cell_type": "markdown",
   "metadata": {},
   "source": [
    "# MODEL TRAINING"
   ]
  },
  {
   "cell_type": "code",
   "execution_count": 20,
   "metadata": {
    "collapsed": false
   },
   "outputs": [
    {
     "data": {
      "text/plain": [
       "LinearSVC(C=1.0, class_weight='auto', dual=True, fit_intercept=True,\n",
       "     intercept_scaling=1, loss='l2', multi_class='ovr', penalty='l2',\n",
       "     random_state=None, tol=0.0001, verbose=0)"
      ]
     },
     "execution_count": 20,
     "metadata": {},
     "output_type": "execute_result"
    }
   ],
   "source": [
    "svm = LinearSVC(C=1.0, loss='l2', class_weight='auto')\n",
    "svm.fit(X_train, labels_train)\n",
    "#pickle.dump(svm, open(join(processedFolderPath,modelFilename),'w+'))   "
   ]
  },
  {
   "cell_type": "code",
   "execution_count": 21,
   "metadata": {
    "collapsed": true
   },
   "outputs": [],
   "source": [
    "##### LOAD MODEL\n",
    "#svm = pickle.load( open(join(processedFolderPath,modelFilename), \"rb\" ))"
   ]
  },
  {
   "cell_type": "markdown",
   "metadata": {},
   "source": [
    "# MODEL TESTING"
   ]
  },
  {
   "cell_type": "code",
   "execution_count": 22,
   "metadata": {
    "collapsed": false
   },
   "outputs": [
    {
     "name": "stdout",
     "output_type": "stream",
     "text": [
      "-----------------------------------------------------\n",
      "------------ CLASSIFICATOR STATISTICS ---------------\n",
      "-----------------------------------------------------\n",
      "\n",
      "Precision:\t0.958823916817\n",
      "Accuracy:\t0.957446808511\n",
      "\n",
      "-----------------------------------------------------\n",
      "------------ STATISTICS PER CATEGORY ----------------\n",
      "-----------------------------------------------------\n",
      "\n",
      "             precision    recall  f1-score   support\n",
      "\n",
      "account_statement       0.79      0.85      0.81        13\n",
      "        cam       1.00      1.00      1.00         6\n",
      "dating_erotic       0.82      0.88      0.85        16\n",
      "   discount       0.88      0.88      0.88       121\n",
      "      ebola       1.00      0.99      0.99       875\n",
      "loan_nonbank       0.87      0.87      0.87        15\n",
      " online_bet       0.81      0.91      0.86        23\n",
      "   pay_easy       0.76      0.81      0.79        16\n",
      "   pharmacy       0.74      0.81      0.77        21\n",
      "soc_network       0.84      0.87      0.85        30\n",
      "transactional       0.92      0.86      0.89        63\n",
      "work_proposal       0.92      1.00      0.96        23\n",
      "\n",
      "avg / total       0.96      0.96      0.96      1222\n",
      "\n"
     ]
    }
   ],
   "source": [
    "##### GET PREDICTIONS\n",
    "predictions = svm.predict(X_test)\n",
    "\n",
    "##### GET STATISTICS\n",
    "report = \"\"\n",
    "report += \"-----------------------------------------------------\\n\"\n",
    "report += \"------------ CLASSIFICATOR STATISTICS ---------------\\n\"\n",
    "report += \"-----------------------------------------------------\\n\\n\"\n",
    "report += 'Precision:\\t%s\\n' % sklearn.metrics.precision_score(labels_test, predictions,\n",
    "                                                                pos_label=labels_test[0])\n",
    "report += 'Accuracy:\\t%s\\n\\n'% sklearn.metrics.accuracy_score(labels_test, predictions)\n",
    "report += \"-----------------------------------------------------\\n\"\n",
    "report += \"------------ STATISTICS PER CATEGORY ----------------\\n\"\n",
    "report += \"-----------------------------------------------------\\n\\n\"\n",
    "report += classification_report(labels_test, predictions)\n",
    "\n",
    "print report"
   ]
  },
  {
   "cell_type": "code",
   "execution_count": 23,
   "metadata": {
    "collapsed": false
   },
   "outputs": [
    {
     "data": {
      "text/plain": [
       "u'bank owe money claims guys marie start reclaiming mis sold ppi money today owed money mis sold payment protection insurance ppi credit card loan natwest lloyds barclays lender start second application loan credit card lloyds barclays natwest lender millions mis sold ppi policy start second application choose claims guys claimed customers average tcg customer claim charge upfront fees win fee online application request claims guys figure applies lenders claims guys customers fee payable claim cancelled day cooling period reasonable offer lender claims guys lynfield house church street altrincham cheshire registered england company regulated claims management regulator repsect regulated claims management activities crm registration recorded website www gov moj cmr hope enjoyed receiving email longer wish receive emails company visit link unsubscribe claims guys marie start reclaiming mis sold ppi money today owed money mis sold payment protection insurance ppi credit card loan start second application natwest lloyds barclays lender loan credit card lloyds barclays natwest lender millions mis sold ppi policy start second application choose claims guys claimed customers average tcg customer claim charge upfront fees win fee online application request claims guys figure applies lenders claims guys customers fee payable claim cancelled day cooling period reasonable offer lender claims guys lynfield house church street altrincham cheshire registered england company regulated claims management regulator repsect regulated claims management activities crm registration recorded website www gov moj cmr hope enjoyed receiving email longer wish receive emails company visit link unsubscribe hope enjoyed receiving email longer wish receive emails company visit link unsubscribe sent advertisement behalf claims guys opted receive promotions websites website partners dedicated providing best promotions select partners longer wish receive click remove subscription preference shawnee development frankfort ave louisville millions_aGef194Kl people_aGef194Kl mis_aGef194Kl sold_aGef194Kl ppi_aGef194Kl'"
      ]
     },
     "execution_count": 23,
     "metadata": {},
     "output_type": "execute_result"
    }
   ],
   "source": [
    "processedCorpus[0]"
   ]
  },
  {
   "cell_type": "code",
   "execution_count": 24,
   "metadata": {
    "collapsed": false
   },
   "outputs": [
    {
     "data": {
      "text/plain": [
       "array([[ 0.,  0.,  0., ...,  0.,  0.,  0.]])"
      ]
     },
     "execution_count": 24,
     "metadata": {},
     "output_type": "execute_result"
    }
   ],
   "source": [
    "ex = vectorizer.transform([processedCorpus[0]])\n",
    "ex.toarray()"
   ]
  },
  {
   "cell_type": "code",
   "execution_count": 25,
   "metadata": {
    "collapsed": false,
    "scrolled": true
   },
   "outputs": [
    {
     "data": {
      "text/plain": [
       "array(['loan_nonbank'], \n",
       "      dtype='|S17')"
      ]
     },
     "execution_count": 25,
     "metadata": {},
     "output_type": "execute_result"
    }
   ],
   "source": [
    "svm.predict(ex)"
   ]
  },
  {
   "cell_type": "code",
   "execution_count": 26,
   "metadata": {
    "collapsed": true
   },
   "outputs": [
    {
     "data": {
      "text/plain": [
       "array(['discount'], \n",
       "      dtype='|S17')"
      ]
     },
     "execution_count": 26,
     "metadata": {},
     "output_type": "execute_result"
    }
   ],
   "source": [
    "svm.predict(vectorizer.transform([\"Hello offer price low\"]))"
   ]
  },
  {
   "cell_type": "code",
   "execution_count": 27,
   "metadata": {
    "collapsed": true
   },
   "outputs": [
    {
     "data": {
      "text/plain": [
       "array(['ebola'], \n",
       "      dtype='|S17')"
      ]
     },
     "execution_count": 27,
     "metadata": {},
     "output_type": "execute_result"
    }
   ],
   "source": [
    "svm.predict(vectorizer.transform([\"bank account\"]))"
   ]
  },
  {
   "cell_type": "code",
   "execution_count": 28,
   "metadata": {
    "collapsed": true
   },
   "outputs": [
    {
     "data": {
      "text/plain": [
       "array(['transactional'], \n",
       "      dtype='|S17')"
      ]
     },
     "execution_count": 28,
     "metadata": {},
     "output_type": "execute_result"
    }
   ],
   "source": [
    "svm.predict(vectorizer.transform([\"account password\"]))"
   ]
  }
 ],
 "metadata": {
  "kernelspec": {
   "display_name": "Python 2",
   "language": "python",
   "name": "python2"
  },
  "language_info": {
   "codemirror_mode": {
    "name": "ipython",
    "version": 2
   },
   "file_extension": ".py",
   "mimetype": "text/x-python",
   "name": "python",
   "nbconvert_exporter": "python",
   "pygments_lexer": "ipython2",
   "version": "2.7.9"
  }
 },
 "nbformat": 4,
 "nbformat_minor": 0
}
